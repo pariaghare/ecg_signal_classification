{
 "cells": [
  {
   "cell_type": "markdown",
   "metadata": {
    "id": "1xUmsg2Jwxha"
   },
   "source": [
    "# 1- Import libraries"
   ]
  },
  {
   "cell_type": "code",
   "execution_count": null,
   "metadata": {
    "id": "5lcb6cRZxvwO"
   },
   "outputs": [],
   "source": [
    "import pandas as pd  \n",
    "import numpy as np\n",
    "from sklearn.metrics import classification_report, confusion_matrix\n",
    "from sklearn.svm import SVC\n",
    "from sklearn.utils import compute_class_weight\n",
    "import warnings\n",
    "warnings.filterwarnings('ignore')"
   ]
  },
  {
   "cell_type": "markdown",
   "metadata": {
    "id": "lDt3ea0Pw81a"
   },
   "source": [
    "# 2- Read the dataset"
   ]
  },
  {
   "cell_type": "code",
   "execution_count": null,
   "metadata": {
    "colab": {
     "base_uri": "https://localhost:8080/"
    },
    "id": "N-RGMSShdex1",
    "outputId": "84d2377b-5d0b-4cb0-edd4-73c0e6300dfb"
   },
   "outputs": [],
   "source": [
    "from sklearn.model_selection import train_test_split\n",
    "from sklearn.preprocessing import StandardScaler\n",
    "from sklearn import preprocessing\n",
    "import pandas as pd\n",
    "\n",
    "features = pd.read_csv(\"featureGan.csv\")\n",
    "label = pd.read_csv(\"label.csv\")\n",
    "\n",
    "\n",
    "x_train = features\n",
    "y_train = label"
   ]
  },
  {
   "cell_type": "code",
   "execution_count": null,
   "metadata": {},
   "outputs": [],
   "source": [
    "print(y_train.shape)\n",
    "print(x_train.shape)\n",
    "print(y_train.value_counts())"
   ]
  },
  {
   "cell_type": "code",
   "execution_count": null,
   "metadata": {},
   "outputs": [],
   "source": [
    "X_train, X_test, y_train, y_test = train_test_split(x_train, y_train, test_size = 0.1)\n",
    "print(\"X_train shape \", X_train.shape)\n",
    "print(\"X_test shape \", X_test.shape)\n",
    "print(\"y_train shape \", y_train.shape)\n",
    "print(\"y_test shape \", y_test.shape)"
   ]
  },
  {
   "cell_type": "markdown",
   "metadata": {
    "id": "v3OgrmdzxDKq"
   },
   "source": [
    "# 3- Preprocess the dataset"
   ]
  },
  {
   "cell_type": "code",
   "execution_count": null,
   "metadata": {
    "id": "AxNjlPMvxCgw"
   },
   "outputs": [],
   "source": [
    "scaler  = StandardScaler()\n",
    "X_train = scaler.fit_transform(X_train)\n",
    "X_test  = scaler.transform(X_test)\n",
    "X_train = preprocessing.normalize(X_train, norm='l2')\n",
    "X_test  = preprocessing.normalize(X_test, norm='l2')"
   ]
  },
  {
   "cell_type": "markdown",
   "metadata": {
    "id": "gTkXd_zlxISA"
   },
   "source": [
    "# 4- feature selection with PCA"
   ]
  },
  {
   "cell_type": "code",
   "execution_count": null,
   "metadata": {
    "id": "GLpEW5OGwv_h"
   },
   "outputs": [],
   "source": [
    "from sklearn.decomposition import PCA\n",
    "pca = PCA(n_components=4)\n",
    "X_train = pca.fit_transform(X_train)\n",
    "X_test = pca.fit_transform(X_test)"
   ]
  },
  {
   "cell_type": "markdown",
   "metadata": {},
   "source": [
    "# "
   ]
  },
  {
   "cell_type": "markdown",
   "metadata": {
    "id": "gli-2-tVEH3C"
   },
   "source": [
    "# 5- Random Forest algorithm + GridSearch + databalancing (final model)"
   ]
  },
  {
   "cell_type": "code",
   "execution_count": null,
   "metadata": {},
   "outputs": [],
   "source": [
    "from sklearn.model_selection import GridSearchCV\n",
    "from sklearn.feature_selection import f_classif\n",
    "from sklearn.utils import compute_class_weight\n",
    "from sklearn.feature_selection import SelectKBest\n",
    "from sklearn.ensemble import RandomForestClassifier\n",
    "from sklearn.metrics import confusion_matrix, classification_report\n",
    "from sklearn.metrics import accuracy_score, recall_score, precision_score\n",
    "from sklearn.metrics import confusion_matrix\n",
    "import matplotlib.pyplot as plt\n",
    "import numpy as np\n",
    "\n",
    "\n",
    "# define feature selection\n",
    "fs = SelectKBest(score_func=f_classif, k=128)\n",
    "\n",
    "# apply feature selection\n",
    "X_selected = fs.fit_transform(X_train, y_train)\n",
    "X_test_selected = fs.transform(X_test)  # Use transform here\n",
    "\n",
    "\n",
    "print(\"Fitting the classifier to the training set\")\n",
    "clf = RandomForestClassifier(n_estimators=100, random_state=1)\n",
    "clf = clf.fit(X_selected, y_train)\n",
    "\n",
    "y_pred = clf.predict(X_test_selected)\n",
    "print(\"\\n\\n************** classification_report **************\\n\\n\", classification_report(y_test,y_pred))\n",
    "\n",
    "\n",
    "# Accuracy\n",
    "accuracy = accuracy_score(y_test, y_pred)\n",
    "print(f\"\\n\\n************** Accuracy **************\\n {accuracy}\")\n",
    "\n",
    "# Sensitivity (Recall)\n",
    "sensitivity = recall_score(y_test, y_pred, average='weighted')  # Adjust 'average' parameter as needed\n",
    "print(f\"\\n\\n************** Sensitivity **************\\n {sensitivity}\")\n",
    "\n",
    "\n",
    "# Calculate Specificity for each class\n",
    "cm = confusion_matrix(y_test, y_pred)\n",
    "specificities = []\n",
    "for class_index in range(cm.shape[0]):\n",
    "    tn = np.sum(cm) - np.sum(cm[class_index, :]) - np.sum(cm[:, class_index]) + cm[class_index, class_index]\n",
    "    fp = np.sum(cm[:, class_index]) - cm[class_index, class_index]\n",
    "    specificity_class = tn / (tn + fp) if (tn + fp) != 0 else 0\n",
    "    specificities.append(specificity_class)\n",
    "\n",
    "average_specificity = np.mean(specificities)\n",
    "print(f\"\\n\\n************** Average Specificity **************\\n {average_specificity}\")\n",
    "\n",
    "\n",
    "\n",
    "# Confusion Matrix and other metrics\n",
    "print(f\"\\n\\n************** Confusion Matrix **************\\n\\n {cm}\")\n",
    "plt.imshow(cm, cmap='Blues')\n",
    "plt.xlabel('Predictions', fontsize=18)\n",
    "plt.ylabel('Actuals', fontsize=18)\n",
    "plt.title('Confusion Matrix', fontsize=18)\n",
    "plt.show()"
   ]
  },
  {
   "cell_type": "markdown",
   "metadata": {
    "id": "52m_J8saxL6i"
   },
   "source": [
    "# 6- SVM algorithm + GridSearch + databalancing"
   ]
  },
  {
   "cell_type": "code",
   "execution_count": null,
   "metadata": {
    "colab": {
     "base_uri": "https://localhost:8080/"
    },
    "id": "4TUqwTgid2HK",
    "outputId": "5bed9522-404e-4f92-ae29-3dc892726de2"
   },
   "outputs": [],
   "source": [
    "from sklearn.model_selection import GridSearchCV\n",
    "from sklearn.feature_selection import f_classif\n",
    "from sklearn.utils import compute_class_weight\n",
    "from sklearn.feature_selection import SelectKBest\n",
    "\n",
    "\n",
    "\n",
    "features = pd.read_csv(\"featureGan.csv\")\n",
    "label = pd.read_csv(\"label.csv\")\n",
    "\n",
    "\n",
    "x_train = features\n",
    "y_train = label\n",
    "\n",
    "X_train, X_test, y_train, y_test = train_test_split(x_train, y_train, test_size = 0.1)\n",
    "\n",
    "scaler  = StandardScaler()\n",
    "X_train = scaler.fit_transform(X_train)\n",
    "X_test  = scaler.transform(X_test)\n",
    "X_train = preprocessing.normalize(X_train, norm='l2')\n",
    "X_test  = preprocessing.normalize(X_test, norm='l2')\n",
    "\n",
    "\n",
    "# Feature selection\n",
    "fs = SelectKBest(score_func=f_classif, k=128)  # Adjust k as needed\n",
    "X_train = fs.fit_transform(X_train, y_train)\n",
    "X_test = fs.transform(X_test)\n",
    "\n",
    "\n",
    "print(\"Fitting the classifier to the training set\")\n",
    "param_grid = {'C': [1e-1, 1, 10]}\n",
    "\n",
    "\n",
    "clf = GridSearchCV(SVC(), param_grid)\n",
    "clf = clf.fit(X_train, y_train)\n",
    "\n",
    "\n",
    "print(\"Best estimator found by grid search:\")\n",
    "print(clf.best_estimator_)\n",
    "\n",
    "\n",
    "y_pred = clf.predict(X_test)\n",
    "print(\"\\n\\n************** classification_report **************\\n\\n\", classification_report(y_test,y_pred))\n",
    "\n",
    "\n",
    "# Accuracy\n",
    "accuracy = accuracy_score(y_test, y_pred)\n",
    "print(f\"\\n\\n************** Accuracy **************\\n {accuracy}\")\n",
    "\n",
    "# Sensitivity (Recall)\n",
    "sensitivity = recall_score(y_test, y_pred, average='weighted')  # Adjust 'average' parameter as needed\n",
    "print(f\"\\n\\n************** Sensitivity **************\\n {sensitivity}\")\n",
    "\n",
    "\n",
    "# Calculate Specificity for each class\n",
    "cm = confusion_matrix(y_test, y_pred)\n",
    "specificities = []\n",
    "for class_index in range(cm.shape[0]):\n",
    "    tn = np.sum(cm) - np.sum(cm[class_index, :]) - np.sum(cm[:, class_index]) + cm[class_index, class_index]\n",
    "    fp = np.sum(cm[:, class_index]) - cm[class_index, class_index]\n",
    "    specificity_class = tn / (tn + fp) if (tn + fp) != 0 else 0\n",
    "    specificities.append(specificity_class)\n",
    "\n",
    "average_specificity = np.mean(specificities)\n",
    "print(f\"\\n\\n************** Average Specificity **************\\n {average_specificity}\")\n",
    "\n",
    "\n",
    "\n",
    "# Confusion Matrix and other metrics\n",
    "print(f\"\\n\\n************** Confusion Matrix **************\\n\\n {cm}\")\n",
    "plt.imshow(cm, cmap='Blues')\n",
    "plt.xlabel('Predictions', fontsize=18)\n",
    "plt.ylabel('Actuals', fontsize=18)\n",
    "plt.title('Confusion Matrix', fontsize=18)\n",
    "plt.show()"
   ]
  },
  {
   "cell_type": "markdown",
   "metadata": {
    "id": "z7YppjT-FGsD"
   },
   "source": [
    "# 7- KNN algorithm + GridSearch + databalancing"
   ]
  },
  {
   "cell_type": "code",
   "execution_count": null,
   "metadata": {
    "colab": {
     "base_uri": "https://localhost:8080/"
    },
    "id": "I3vM5aCq4V6E",
    "outputId": "e96ae0da-1a4b-4cce-9026-069db209058f"
   },
   "outputs": [],
   "source": [
    "from sklearn.model_selection import GridSearchCV\n",
    "from sklearn.feature_selection import f_classif\n",
    "from sklearn.utils import compute_class_weight\n",
    "from sklearn.feature_selection import SelectKBest\n",
    "from sklearn.neighbors import KNeighborsClassifier\n",
    "\n",
    "\n",
    "features = pd.read_csv(\"featureGan.csv\")\n",
    "label = pd.read_csv(\"label.csv\")\n",
    "\n",
    "\n",
    "x_train = features\n",
    "y_train = label\n",
    "\n",
    "X_train, X_test, y_train, y_test = train_test_split(x_train, y_train, test_size = 0.1)\n",
    "\n",
    "scaler  = StandardScaler()\n",
    "X_train = scaler.fit_transform(X_train)\n",
    "X_test  = scaler.transform(X_test)\n",
    "X_train = preprocessing.normalize(X_train, norm='l2')\n",
    "X_test  = preprocessing.normalize(X_test, norm='l2')\n",
    "\n",
    "\n",
    "# Feature selection\n",
    "fs = SelectKBest(score_func=f_classif, k=128)  # Adjust k as needed\n",
    "X_train = fs.fit_transform(X_train, y_train)\n",
    "X_test = fs.transform(X_test)\n",
    "\n",
    "\n",
    "\n",
    "\n",
    "print(\"Fitting the classifier to the training set\")\n",
    "clf = KNeighborsClassifier(n_neighbors=1)\n",
    "clf = clf.fit(X_train, y_train)\n",
    "\n",
    "\n",
    "y_pred = clf.predict(X_test)\n",
    "print(\"\\n\\n************** classification_report **************\\n\\n\", classification_report(y_test,y_pred))\n",
    "\n",
    "\n",
    "# Accuracy\n",
    "accuracy = accuracy_score(y_test, y_pred)\n",
    "print(f\"\\n\\n************** Accuracy **************\\n {accuracy}\")\n",
    "\n",
    "# Sensitivity (Recall)\n",
    "sensitivity = recall_score(y_test, y_pred, average='weighted')  # Adjust 'average' parameter as needed\n",
    "print(f\"\\n\\n************** Sensitivity **************\\n {sensitivity}\")\n",
    "\n",
    "\n",
    "# Calculate Specificity for each class\n",
    "cm = confusion_matrix(y_test, y_pred)\n",
    "specificities = []\n",
    "for class_index in range(cm.shape[0]):\n",
    "    tn = np.sum(cm) - np.sum(cm[class_index, :]) - np.sum(cm[:, class_index]) + cm[class_index, class_index]\n",
    "    fp = np.sum(cm[:, class_index]) - cm[class_index, class_index]\n",
    "    specificity_class = tn / (tn + fp) if (tn + fp) != 0 else 0\n",
    "    specificities.append(specificity_class)\n",
    "\n",
    "average_specificity = np.mean(specificities)\n",
    "print(f\"\\n\\n************** Average Specificity **************\\n {average_specificity}\")\n",
    "\n",
    "\n",
    "\n",
    "# Confusion Matrix and other metrics\n",
    "print(f\"\\n\\n************** Confusion Matrix **************\\n\\n {cm}\")\n",
    "plt.imshow(cm, cmap='Blues')\n",
    "plt.xlabel('Predictions', fontsize=18)\n",
    "plt.ylabel('Actuals', fontsize=18)\n",
    "plt.title('Confusion Matrix', fontsize=18)\n",
    "plt.show()"
   ]
  },
  {
   "cell_type": "markdown",
   "metadata": {
    "id": "tIFRTTOW591d"
   },
   "source": [
    "# 8- Decision Tree algorithm + GridSearch + databalancing"
   ]
  },
  {
   "cell_type": "code",
   "execution_count": null,
   "metadata": {
    "colab": {
     "base_uri": "https://localhost:8080/"
    },
    "id": "RcZWTydePJpu",
    "outputId": "8e87a1a5-1ac9-4320-9a02-9f0d9e9f87eb"
   },
   "outputs": [],
   "source": [
    "from sklearn.model_selection import GridSearchCV\n",
    "from sklearn.feature_selection import f_classif\n",
    "from sklearn.utils import compute_class_weight\n",
    "from sklearn.feature_selection import SelectKBest\n",
    "from sklearn.tree import DecisionTreeClassifier\n",
    "\n",
    "features = pd.read_csv(\"featureGan.csv\")\n",
    "label = pd.read_csv(\"label.csv\")\n",
    "\n",
    "\n",
    "x_train = features\n",
    "y_train = label\n",
    "\n",
    "X_train, X_test, y_train, y_test = train_test_split(x_train, y_train, test_size = 0.1)\n",
    "\n",
    "scaler  = StandardScaler()\n",
    "X_train = scaler.fit_transform(X_train)\n",
    "X_test  = scaler.transform(X_test)\n",
    "X_train = preprocessing.normalize(X_train, norm='l2')\n",
    "X_test  = preprocessing.normalize(X_test, norm='l2')\n",
    "\n",
    "\n",
    "# Feature selection\n",
    "fs = SelectKBest(score_func=f_classif, k=128)  # Adjust k as needed\n",
    "X_train = fs.fit_transform(X_train, y_train)\n",
    "X_test = fs.transform(X_test)\n",
    "\n",
    "\n",
    "\n",
    "print(\"Fitting the classifier to the training set\")\n",
    "clf = DecisionTreeClassifier(max_depth=20)\n",
    "clf = clf.fit(X_train, y_train)\n",
    "\n",
    "\n",
    "y_pred = clf.predict(X_test)\n",
    "print(\"\\n\\n************** classification_report **************\\n\\n\", classification_report(y_test,y_pred))\n",
    "\n",
    "\n",
    "# Accuracy\n",
    "accuracy = accuracy_score(y_test, y_pred)\n",
    "print(f\"\\n\\n************** Accuracy **************\\n {accuracy}\")\n",
    "\n",
    "# Sensitivity (Recall)\n",
    "sensitivity = recall_score(y_test, y_pred, average='weighted')  # Adjust 'average' parameter as needed\n",
    "print(f\"\\n\\n************** Sensitivity **************\\n {sensitivity}\")\n",
    "\n",
    "\n",
    "# Calculate Specificity for each class\n",
    "cm = confusion_matrix(y_test, y_pred)\n",
    "specificities = []\n",
    "for class_index in range(cm.shape[0]):\n",
    "    tn = np.sum(cm) - np.sum(cm[class_index, :]) - np.sum(cm[:, class_index]) + cm[class_index, class_index]\n",
    "    fp = np.sum(cm[:, class_index]) - cm[class_index, class_index]\n",
    "    specificity_class = tn / (tn + fp) if (tn + fp) != 0 else 0\n",
    "    specificities.append(specificity_class)\n",
    "\n",
    "average_specificity = np.mean(specificities)\n",
    "print(f\"\\n\\n************** Average Specificity **************\\n {average_specificity}\")\n",
    "\n",
    "\n",
    "\n",
    "# Confusion Matrix and other metrics\n",
    "print(f\"\\n\\n************** Confusion Matrix **************\\n\\n {cm}\")\n",
    "plt.imshow(cm, cmap='Blues')\n",
    "plt.xlabel('Predictions', fontsize=18)\n",
    "plt.ylabel('Actuals', fontsize=18)\n",
    "plt.title('Confusion Matrix', fontsize=18)\n",
    "plt.show()"
   ]
  },
  {
   "cell_type": "markdown",
   "metadata": {
    "id": "woWJbxJW9lvw"
   },
   "source": [
    "# 9- MLP algorithm + GridSearch + databalancing"
   ]
  },
  {
   "cell_type": "code",
   "execution_count": null,
   "metadata": {},
   "outputs": [],
   "source": [
    "from sklearn.feature_selection import SelectKBest, f_classif\n",
    "from sklearn.neural_network import MLPClassifier\n",
    "from sklearn.metrics import confusion_matrix, classification_report\n",
    "import matplotlib.pyplot as plt\n",
    "import numpy as np\n",
    "\n",
    "\n",
    "features = pd.read_csv(\"featureGan.csv\")\n",
    "label = pd.read_csv(\"label.csv\")\n",
    "\n",
    "\n",
    "x_train = features\n",
    "y_train = label\n",
    "\n",
    "X_train, X_test, y_train, y_test = train_test_split(x_train, y_train, test_size = 0.1)\n",
    "\n",
    "scaler  = StandardScaler()\n",
    "X_train = scaler.fit_transform(X_train)\n",
    "X_test  = scaler.transform(X_test)\n",
    "X_train = preprocessing.normalize(X_train, norm='l2')\n",
    "X_test  = preprocessing.normalize(X_test, norm='l2')\n",
    "\n",
    "\n",
    "# Feature selection\n",
    "fs = SelectKBest(score_func=f_classif, k=\"all\")  # Adjust k as needed\n",
    "X_train = fs.fit_transform(X_train, y_train)\n",
    "X_test = fs.transform(X_test)\n",
    "\n",
    "# Define and train the MLP classifier\n",
    "mlp = MLPClassifier(hidden_layer_sizes=(250,), max_iter=1000, random_state=1)\n",
    "mlp.fit(X_train, y_train.values.ravel())  # Assuming y_train is a DataFrame\n",
    "\n",
    "# Make predictions\n",
    "y_pred = mlp.predict(X_test)\n",
    "\n",
    "print(\"\\n\\n************** classification_report **************\\n\\n\", classification_report(y_test,y_pred))\n",
    "\n",
    "\n",
    "# Accuracy\n",
    "accuracy = accuracy_score(y_test, y_pred)\n",
    "print(f\"\\n\\n************** Accuracy **************\\n {accuracy}\")\n",
    "\n",
    "# Sensitivity (Recall)\n",
    "sensitivity = recall_score(y_test, y_pred, average='weighted')  # Adjust 'average' parameter as needed\n",
    "print(f\"\\n\\n************** Sensitivity **************\\n {sensitivity}\")\n",
    "\n",
    "\n",
    "# Calculate Specificity for each class\n",
    "cm = confusion_matrix(y_test, y_pred)\n",
    "specificities = []\n",
    "for class_index in range(cm.shape[0]):\n",
    "    tn = np.sum(cm) - np.sum(cm[class_index, :]) - np.sum(cm[:, class_index]) + cm[class_index, class_index]\n",
    "    fp = np.sum(cm[:, class_index]) - cm[class_index, class_index]\n",
    "    specificity_class = tn / (tn + fp) if (tn + fp) != 0 else 0\n",
    "    specificities.append(specificity_class)\n",
    "\n",
    "average_specificity = np.mean(specificities)\n",
    "print(f\"\\n\\n************** Average Specificity **************\\n {average_specificity}\")\n",
    "\n",
    "\n",
    "\n",
    "# Confusion Matrix and other metrics\n",
    "print(f\"\\n\\n************** Confusion Matrix **************\\n\\n {cm}\")\n",
    "plt.imshow(cm, cmap='Blues')\n",
    "plt.xlabel('Predictions', fontsize=18)\n",
    "plt.ylabel('Actuals', fontsize=18)\n",
    "plt.title('Confusion Matrix', fontsize=18)\n",
    "plt.show()"
   ]
  },
  {
   "cell_type": "code",
   "execution_count": null,
   "metadata": {},
   "outputs": [],
   "source": []
  }
 ],
 "metadata": {
  "accelerator": "GPU",
  "colab": {
   "collapsed_sections": [],
   "name": "FeatureBased_Classification.ipynb",
   "provenance": []
  },
  "gpuClass": "standard",
  "kernelspec": {
   "display_name": "Python 3 (ipykernel)",
   "language": "python",
   "name": "python3"
  },
  "language_info": {
   "codemirror_mode": {
    "name": "ipython",
    "version": 3
   },
   "file_extension": ".py",
   "mimetype": "text/x-python",
   "name": "python",
   "nbconvert_exporter": "python",
   "pygments_lexer": "ipython3",
   "version": "3.11.4"
  }
 },
 "nbformat": 4,
 "nbformat_minor": 1
}
